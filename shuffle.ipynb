{
 "cells": [
  {
   "cell_type": "code",
   "execution_count": 1,
   "metadata": {},
   "outputs": [
    {
     "name": "stdout",
     "output_type": "stream",
     "text": [
      "loading py files from: /home/wouter/onesnake\n"
     ]
    },
    {
     "name": "stdout",
     "output_type": "stream",
     "text": [
      "Copied files and put cwd to: /home/wouter/onesnake/sshuffleboard_retis\n"
     ]
    }
   ],
   "source": [
    "import os\n",
    "dir_path = \"/home/wouter/onesnake\"\n",
    "os.chdir(dir_path)\n",
    "print(\"loading py files from:\", os.getcwd())\n",
    "import shutil\n",
    "import logging\n",
    "import matplotlib.pyplot as plt\n",
    "import time\n",
    "import subprocess\n",
    "import numpy as np\n",
    "from simulation import Simulation\n",
    "from snakesimulation import snakeSimulation\n",
    "from forcedsimulation import forcedSimulation\n",
    "from extsimulation import extSimulation\n",
    "from funcs import plot_paths, overlay_paths, plot_2Dpaths\n",
    "from vvengine import VelocityVerletEngine\n",
    "from funcs import get_introspective_swap_matrix\n",
    "from funcs import select_submatrix, permanent_prob, fast_glynn_perm\n",
    "from funcs import fastpermanent_repeat_prob\n",
    "import permanent\n",
    "\n",
    "%matplotlib qt\n",
    "%load_ext autoreload\n",
    "\n",
    "\n",
    "work_dir = \"./sshuffleboard_retis\"\n",
    "\n",
    "# if os.path.exists(work_dir):\n",
    "#     shutil.rmtree(work_dir)\n",
    "#     print('removed old work_dir')\n",
    "# if not os.path.exists(work_dir):\n",
    "#     os.mkdir(work_dir)\n",
    "#     # copy the file \"permanent\" to work_dir\n",
    "#     shutil.copy(\"permanent\", work_dir)\n",
    "#     shutil.copy('retis.rst', work_dir)\n",
    "#     # copy the file \"maze.png\" to work_dir\n",
    "#     shutil.copy('maze.png', work_dir)\n",
    "#     #shutil.copy(\"retis_initpath_phs.npy\", work_dir)\n",
    "#     shutil.copy(\"retis_shuffle_initpath.npy\", work_dir)\n",
    "# # # copy all py files of cwd to test\n",
    "# # for file in os.listdir(os.getcwd()):\n",
    "# #     if file.endswith(\".py\"):\n",
    "# #         shutil.copy(file, work_dir)\n",
    "os.chdir(work_dir)\n",
    "print(\"Copied files and put cwd to:\", os.getcwd())\n"
   ]
  },
  {
   "cell_type": "code",
   "execution_count": 2,
   "metadata": {},
   "outputs": [],
   "source": [
    "# %autoreload\n",
    "# from potential import RectangularGridWithBarrierPotential\n",
    "# Lx = 15\n",
    "# Ly = 5\n",
    "# k = 2\n",
    "# M = (7.5, 2.5)\n",
    "# r = -3*Lx/Ly \n",
    "# A = 2\n",
    "# L = 2 \n",
    "# testpot = RectangularGridWithBarrierPotential(Ly, Lx, k, M, r, A, L)\n",
    "# x = np.linspace(-Lx*.1, Lx*1.1, 200)\n",
    "# y = np.linspace(-Ly*.1, Ly*1.1, 200)\n",
    "# vx = np.zeros_like(x)\n",
    "# vy = np.zeros_like(y)\n",
    "# X, Y = np.meshgrid(x, y)\n",
    "# Z = np.zeros_like(X)\n",
    "# for i in range(len(x)):\n",
    "#     for j in range(len(y)):\n",
    "#         Z[i, j] = testpot.potential_and_force([np.array([x[i], y[j]]), np.array([0, 0])])[0]\n",
    "# fig = plt.figure()\n",
    "# ax = fig.add_subplot(111)\n",
    "# f = ax.contourf(X, Y, Z, 200)\n",
    "# # show contour lines at 0, 1, 2, 3, 4, 5, 6, 7, 8, 9\n",
    "# plt.contour(X, Y, Z, levels=[-5, 0, 9])\n",
    "# # x and y scale are equal \n",
    "# #plt.axis('equal')\n",
    "# # equal aspect ratio\n",
    "# ax.set_aspect('equal')\n",
    "# fig.colorbar(f)\n",
    "# fig.tight_layout()\n",
    "# fig.show()"
   ]
  },
  {
   "cell_type": "code",
   "execution_count": 2,
   "metadata": {},
   "outputs": [],
   "source": [
    "intfs = np.linspace(0.5,8.5,11)*.1\n",
    "\n",
    "# Set-up the simulation keys for RETIS\n",
    "retisset = {\"interfaces\" : intfs.tolist(),\n",
    "            \"simtype\" : \"retis\", \n",
    "            \"method\" : \"load\",\n",
    "            \"max_len\" : 10000000,\n",
    "            \"dt\": 0.002,\n",
    "            \"temperature\": .05,\n",
    "            \"friction\": 25.,\n",
    "            \"max_cycles\": 250000,\n",
    "            \"p_shoot\": 0.75,\n",
    "            \"include_stateB\": False,\n",
    "            'prime_both_starts': False,\n",
    "            'snake_Lmax': 0,\n",
    "            'max_paths': 1,\n",
    "            'Nl': 1,\n",
    "             'dim' : 2,\n",
    "             'mass' : .1,\n",
    "}\n",
    "# or for REPPTIS\n",
    "repptisset = {\"interfaces\" : intfs,\n",
    "             \"simtype\" : \"repptis\", \n",
    "             \"method\" : \"load\",\n",
    "             \"max_len\" : 1000000,\n",
    "             \"dt\": 0.002,\n",
    "             \"temperature\": .05,\n",
    "             \"friction\": 25.,\n",
    "             \"max_cycles\": 200000,\n",
    "             \"p_shoot\": 1.,\n",
    "             \"include_stateB\": True,\n",
    "             'prime_both_starts': True,\n",
    "             'snake_Lmax': 0,\n",
    "             'max_paths': 2,\n",
    "             'sL' : 9,\n",
    "             'Nl': 1,\n",
    "             'Next' : 3,\n",
    "             'yoot' : False, # to set choice = 0 and W = 1.\n",
    "             'endpoints_only' : False,\n",
    "             'flipboth': True,\n",
    "             'binomial': True,\n",
    "             'random_shoots': True,\n",
    "             'invert_W' : False,\n",
    "             'dim' : 2,\n",
    "             'mass' : .1,\n",
    "}\n",
    "\n",
    "%autoreload\n",
    "logger = logging.getLogger()\n",
    "file_handler = logging.FileHandler(\"logging.log\")\n",
    "formatter = logging.Formatter('[%(levelname)s] %(name)s %(funcName)s %(lineno)d: %(message)s')\n",
    "file_handler.setFormatter(formatter)\n",
    "logger.addHandler(file_handler)\n",
    "logger.setLevel(logging.INFO)\n",
    "logger.info(\"Hello world!\")\n",
    "logger.propagate = False\n",
    "sim = Simulation(retisset)\n",
    "xpot, ypot, vpot = sim.ensembles[0].engine.potential.get_potential_plot()\n",
    "\n",
    "# sim = extSimulation(repptisset)\n",
    "# xpot, ypot, vpot = sim.ensembles[0][0].engine.potential.get_potential_plot()\n",
    "\n",
    "\n",
    "# set loglevel to warning for matplotlib\n",
    "logging.getLogger(\"matplotlib\").setLevel(logging.WARNING)\n"
   ]
  },
  {
   "cell_type": "code",
   "execution_count": 3,
   "metadata": {},
   "outputs": [
    {
     "ename": "KeyboardInterrupt",
     "evalue": "",
     "output_type": "error",
     "traceback": [
      "\u001b[0;31m---------------------------------------------------------------------------\u001b[0m",
      "\u001b[0;31mKeyboardInterrupt\u001b[0m                         Traceback (most recent call last)",
      "\u001b[0;32m/tmp/ipykernel_56922/4135116017.py\u001b[0m in \u001b[0;36m<module>\u001b[0;34m\u001b[0m\n\u001b[1;32m      1\u001b[0m \u001b[0;31m# %autoreload\u001b[0m\u001b[0;34m\u001b[0m\u001b[0;34m\u001b[0m\u001b[0;34m\u001b[0m\u001b[0m\n\u001b[0;32m----> 2\u001b[0;31m \u001b[0msim\u001b[0m\u001b[0;34m.\u001b[0m\u001b[0mrun\u001b[0m\u001b[0;34m(\u001b[0m\u001b[0;34m)\u001b[0m\u001b[0;34m\u001b[0m\u001b[0;34m\u001b[0m\u001b[0m\n\u001b[0m",
      "\u001b[0;32m~/onesnake/simulation.py\u001b[0m in \u001b[0;36mrun\u001b[0;34m(self)\u001b[0m\n\u001b[1;32m    313\u001b[0m             \u001b[0mlogger\u001b[0m\u001b[0;34m.\u001b[0m\u001b[0minfo\u001b[0m\u001b[0;34m(\u001b[0m\u001b[0;34m\"-\"\u001b[0m \u001b[0;34m*\u001b[0m \u001b[0;36m80\u001b[0m\u001b[0;34m)\u001b[0m\u001b[0;34m\u001b[0m\u001b[0;34m\u001b[0m\u001b[0m\n\u001b[1;32m    314\u001b[0m             \u001b[0;32mif\u001b[0m \u001b[0mnp\u001b[0m\u001b[0;34m.\u001b[0m\u001b[0mrandom\u001b[0m\u001b[0;34m.\u001b[0m\u001b[0mrand\u001b[0m\u001b[0;34m(\u001b[0m\u001b[0;34m)\u001b[0m \u001b[0;34m<\u001b[0m \u001b[0mp_shoot\u001b[0m\u001b[0;34m:\u001b[0m\u001b[0;34m\u001b[0m\u001b[0;34m\u001b[0m\u001b[0m\n\u001b[0;32m--> 315\u001b[0;31m                 \u001b[0mself\u001b[0m\u001b[0;34m.\u001b[0m\u001b[0mdo_shooting_moves\u001b[0m\u001b[0;34m(\u001b[0m\u001b[0;34m)\u001b[0m\u001b[0;34m\u001b[0m\u001b[0;34m\u001b[0m\u001b[0m\n\u001b[0m\u001b[1;32m    316\u001b[0m             \u001b[0;32melse\u001b[0m\u001b[0;34m:\u001b[0m\u001b[0;34m\u001b[0m\u001b[0;34m\u001b[0m\u001b[0m\n\u001b[1;32m    317\u001b[0m                 \u001b[0mself\u001b[0m\u001b[0;34m.\u001b[0m\u001b[0mdo_swap_moves\u001b[0m\u001b[0;34m(\u001b[0m\u001b[0;34m)\u001b[0m\u001b[0;34m\u001b[0m\u001b[0;34m\u001b[0m\u001b[0m\n",
      "\u001b[0;32m~/onesnake/simulation.py\u001b[0m in \u001b[0;36mdo_shooting_moves\u001b[0;34m(self)\u001b[0m\n\u001b[1;32m     93\u001b[0m         \u001b[0mself\u001b[0m\u001b[0;34m.\u001b[0m\u001b[0mcycle\u001b[0m \u001b[0;34m+=\u001b[0m \u001b[0;36m1\u001b[0m\u001b[0;34m\u001b[0m\u001b[0;34m\u001b[0m\u001b[0m\n\u001b[1;32m     94\u001b[0m         \u001b[0;32mfor\u001b[0m \u001b[0mens\u001b[0m \u001b[0;32min\u001b[0m \u001b[0mself\u001b[0m\u001b[0;34m.\u001b[0m\u001b[0mensembles\u001b[0m\u001b[0;34m:\u001b[0m\u001b[0;34m\u001b[0m\u001b[0;34m\u001b[0m\u001b[0m\n\u001b[0;32m---> 95\u001b[0;31m             \u001b[0mstatus\u001b[0m\u001b[0;34m,\u001b[0m \u001b[0mtrial\u001b[0m \u001b[0;34m=\u001b[0m \u001b[0mshooting_move\u001b[0m\u001b[0;34m(\u001b[0m\u001b[0mens\u001b[0m\u001b[0;34m)\u001b[0m\u001b[0;34m\u001b[0m\u001b[0;34m\u001b[0m\u001b[0m\n\u001b[0m\u001b[1;32m     96\u001b[0m             logger.info(\"Shooting move in {} resulted in {}\".format(\n\u001b[1;32m     97\u001b[0m                 ens.name, status))\n",
      "\u001b[0;32m~/onesnake/moves.py\u001b[0m in \u001b[0;36mshooting_move\u001b[0;34m(ens, level)\u001b[0m\n\u001b[1;32m     57\u001b[0m     \u001b[0;31m# restrictive than the forwards part (corresponding to the end condition).\u001b[0m\u001b[0;34m\u001b[0m\u001b[0;34m\u001b[0m\u001b[0;34m\u001b[0m\u001b[0m\n\u001b[1;32m     58\u001b[0m     \u001b[0;31m# propagate backwards. Maxlen = shoot_maxlen-1, because shootpoint is 1\u001b[0m\u001b[0;34m\u001b[0m\u001b[0;34m\u001b[0m\u001b[0;34m\u001b[0m\u001b[0m\n\u001b[0;32m---> 59\u001b[0;31m     \u001b[0mbw_status\u001b[0m\u001b[0;34m,\u001b[0m \u001b[0mbw_tuple\u001b[0m \u001b[0;34m=\u001b[0m \u001b[0mpropagate\u001b[0m\u001b[0;34m(\u001b[0m\u001b[0mens\u001b[0m\u001b[0;34m,\u001b[0m \u001b[0mshootpoint\u001b[0m\u001b[0;34m,\u001b[0m \u001b[0;34m-\u001b[0m\u001b[0;36m1.\u001b[0m\u001b[0;34m,\u001b[0m \u001b[0mshoot_maxlen\u001b[0m\u001b[0;34m-\u001b[0m\u001b[0;36m1\u001b[0m\u001b[0;34m)\u001b[0m\u001b[0;34m\u001b[0m\u001b[0;34m\u001b[0m\u001b[0m\n\u001b[0m\u001b[1;32m     60\u001b[0m     \u001b[0;31m# if unsuccessful, return the status and the partially propagated path\u001b[0m\u001b[0;34m\u001b[0m\u001b[0;34m\u001b[0m\u001b[0;34m\u001b[0m\u001b[0m\n\u001b[1;32m     61\u001b[0m     \u001b[0;32mif\u001b[0m \u001b[0mbw_status\u001b[0m \u001b[0;34m!=\u001b[0m \u001b[0;34m\"ACC\"\u001b[0m\u001b[0;34m:\u001b[0m\u001b[0;34m\u001b[0m\u001b[0;34m\u001b[0m\u001b[0m\n",
      "\u001b[0;32m~/onesnake/moves.py\u001b[0m in \u001b[0;36mpropagate\u001b[0;34m(ens, sh, reverse, maxlen)\u001b[0m\n\u001b[1;32m    515\u001b[0m         \u001b[0mph\u001b[0m \u001b[0;34m=\u001b[0m \u001b[0mens\u001b[0m\u001b[0;34m.\u001b[0m\u001b[0mengine\u001b[0m\u001b[0;34m.\u001b[0m\u001b[0mstep\u001b[0m\u001b[0;34m(\u001b[0m\u001b[0mph\u001b[0m\u001b[0;34m)\u001b[0m\u001b[0;34m\u001b[0m\u001b[0;34m\u001b[0m\u001b[0m\n\u001b[1;32m    516\u001b[0m         \u001b[0mop\u001b[0m \u001b[0;34m=\u001b[0m \u001b[0mens\u001b[0m\u001b[0;34m.\u001b[0m\u001b[0morderparameter\u001b[0m\u001b[0;34m.\u001b[0m\u001b[0mcalculate\u001b[0m\u001b[0;34m(\u001b[0m\u001b[0mph\u001b[0m\u001b[0;34m)\u001b[0m\u001b[0;34m\u001b[0m\u001b[0;34m\u001b[0m\u001b[0m\n\u001b[0;32m--> 517\u001b[0;31m         \u001b[0mphs\u001b[0m\u001b[0;34m.\u001b[0m\u001b[0mappend\u001b[0m\u001b[0;34m(\u001b[0m\u001b[0;34m(\u001b[0m\u001b[0mph\u001b[0m\u001b[0;34m[\u001b[0m\u001b[0;36m0\u001b[0m\u001b[0;34m]\u001b[0m\u001b[0;34m,\u001b[0m \u001b[0mreverse\u001b[0m\u001b[0;34m*\u001b[0m\u001b[0mph\u001b[0m\u001b[0;34m[\u001b[0m\u001b[0;36m1\u001b[0m\u001b[0;34m]\u001b[0m\u001b[0;34m)\u001b[0m\u001b[0;34m)\u001b[0m\u001b[0;34m\u001b[0m\u001b[0;34m\u001b[0m\u001b[0m\n\u001b[0m\u001b[1;32m    518\u001b[0m         \u001b[0mops\u001b[0m\u001b[0;34m.\u001b[0m\u001b[0mappend\u001b[0m\u001b[0;34m(\u001b[0m\u001b[0mop\u001b[0m\u001b[0;34m)\u001b[0m\u001b[0;34m\u001b[0m\u001b[0;34m\u001b[0m\u001b[0m\n\u001b[1;32m    519\u001b[0m         \u001b[0mrun_len\u001b[0m \u001b[0;34m+=\u001b[0m \u001b[0;36m1\u001b[0m\u001b[0;34m\u001b[0m\u001b[0;34m\u001b[0m\u001b[0m\n",
      "\u001b[0;31mKeyboardInterrupt\u001b[0m: "
     ]
    }
   ],
   "source": [
    "# %autoreload\n",
    "sim.run()"
   ]
  },
  {
   "cell_type": "code",
   "execution_count": 6,
   "metadata": {},
   "outputs": [],
   "source": [
    "sim.max_cycles = 50000\n",
    "sim.run()"
   ]
  },
  {
   "cell_type": "code",
   "execution_count": 5,
   "metadata": {},
   "outputs": [
    {
     "name": "stderr",
     "output_type": "stream",
     "text": [
      "libGL error: MESA-LOADER: failed to open iris: /usr/lib/dri/iris_dri.so: cannot open shared object file: No such file or directory (search paths /usr/lib/x86_64-linux-gnu/dri:\\$${ORIGIN}/dri:/usr/lib/dri, suffix _dri)\n",
      "libGL error: failed to load driver: iris\n",
      "libGL error: MESA-LOADER: failed to open iris: /usr/lib/dri/iris_dri.so: cannot open shared object file: No such file or directory (search paths /usr/lib/x86_64-linux-gnu/dri:\\$${ORIGIN}/dri:/usr/lib/dri, suffix _dri)\n",
      "libGL error: failed to load driver: iris\n",
      "libGL error: MESA-LOADER: failed to open swrast: /usr/lib/dri/swrast_dri.so: cannot open shared object file: No such file or directory (search paths /usr/lib/x86_64-linux-gnu/dri:\\$${ORIGIN}/dri:/usr/lib/dri, suffix _dri)\n",
      "libGL error: failed to load driver: swrast\n"
     ]
    }
   ],
   "source": [
    "%autoreload\n",
    "from funcs import plot_2Dpaths\n",
    "fig, ax = plt.subplots()\n",
    "for intf in sim.intfs:\n",
    "    ax.axhline(intf, color='black', ls='--')\n",
    "f = ax.contourf(xpot, ypot, vpot, levels=[-0.2,-.1,0,0.1,0.2,0.3,1,2,5])\n",
    "fig.colorbar(f)\n",
    "plot_2Dpaths([ens.last_path for ens in sim.ensembles], ax=ax, intfs=sim.intfs, ls=\"-\")\n",
    "fig.show()\n",
    "\n",
    "\n",
    "# fig, ax = plt.subplots()\n",
    "# for ens in sim.ensembles:\n",
    "#         plot_2Dpaths([ens.last_path], intfs=intfs, ax=ax)\n",
    "# fig.show()"
   ]
  },
  {
   "cell_type": "code",
   "execution_count": 15,
   "metadata": {},
   "outputs": [
    {
     "name": "stdout",
     "output_type": "stream",
     "text": [
      "average force: [-1.90620336  1.15825148]\n",
      "std dev force: [41.53502249 26.18070085]\n"
     ]
    }
   ],
   "source": [
    "%autoreload\n",
    "phasepoint = (np.array([0.1,0.1]), np.array([0,0]))\n",
    "path = []\n",
    "eng = sim.ensembles[0].engine\n",
    "n = 0\n",
    "forces = []\n",
    "while n < 1000:\n",
    "    ph,force = eng.step(phasepoint)\n",
    "    path.append(ph)\n",
    "    forces.append(force)\n",
    "    phasepoint = ph \n",
    "    n += 1\n",
    "savepath = path.copy()\n",
    "path = np.array(path)\n",
    "# average force and std dev\n",
    "forces = np.array(forces)\n",
    "favg = np.mean(forces, axis=0)\n",
    "fstd = np.std(forces, axis=0)\n",
    "print(\"average force:\", favg)\n",
    "print(\"std dev force:\", fstd)\n"
   ]
  },
  {
   "cell_type": "code",
   "execution_count": 16,
   "metadata": {},
   "outputs": [],
   "source": [
    "fig, ax = plt.subplots()\n",
    "for intf in sim.intfs:\n",
    "    ax.axhline(intf, color='black', ls='--')\n",
    "ax.plot(path[:, 0, 0], path[:, 0, 1], ls='-', marker='x',ms=1,lw=.1)\n",
    "fig.show()"
   ]
  },
  {
   "cell_type": "code",
   "execution_count": 17,
   "metadata": {},
   "outputs": [],
   "source": [
    "newpathsave = []\n",
    "# we go through the phasepoints of savepath, if it is < intf[0] or > intf[-1] we don't add it to newpathsave\n",
    "for ph in savepath:\n",
    "    if ph[0][1] < intfs[0] or ph[0][1] > intfs[-1]:\n",
    "        continue\n",
    "    newpathsave.append(ph)\n",
    "# now add one point that is < intfs[0] to newpathsave (at the beginning)\n",
    "while True:\n",
    "    for ph in savepath:\n",
    "        if ph[0][1] < intfs[0]:\n",
    "            newpathsave.insert(0, ph)\n",
    "            break\n",
    "    break \n",
    "while True:\n",
    "#and one point that is > intfs[-1] to newpathsave (at the end)\n",
    "    for ph in savepath[::-1]:\n",
    "        if ph[0][1] > intfs[-1]:\n",
    "            newpathsave.append(ph)\n",
    "            break\n",
    "    break\n",
    "newpathsave = np.array(newpathsave)\n",
    "np.save(\"retis_shuffle_initpath.npy\", newpathsave)"
   ]
  },
  {
   "cell_type": "code",
   "execution_count": 2,
   "metadata": {},
   "outputs": [],
   "source": [
    "# RESTART PROCEDURE\n",
    "import pickle as pkl\n",
    "import os\n",
    "with open('sim.pkl', 'rb') as f:\n",
    "    sim = pkl.load(f)\n",
    "import logging\n",
    "logger = logging.getLogger()\n",
    "file_handler = logging.FileHandler(\"logging.log\")\n",
    "formatter = logging.Formatter('[%(levelname)s] %(name)s %(funcName)s %(lineno)d: %(message)s')\n",
    "file_handler.setFormatter(formatter)\n",
    "logger.addHandler(file_handler)\n",
    "logger.setLevel(logging.INFO)\n",
    "logger.info(\"Hello world!\")\n",
    "logger.propagate = False\n",
    "logging.getLogger(\"matplotlib\").setLevel(logging.WARNING)\n"
   ]
  },
  {
   "cell_type": "code",
   "execution_count": 3,
   "metadata": {},
   "outputs": [
    {
     "ename": "KeyboardInterrupt",
     "evalue": "",
     "output_type": "error",
     "traceback": [
      "\u001b[0;31m---------------------------------------------------------------------------\u001b[0m",
      "\u001b[0;31mKeyboardInterrupt\u001b[0m                         Traceback (most recent call last)",
      "\u001b[0;32m/tmp/ipykernel_72733/2431362144.py\u001b[0m in \u001b[0;36m<module>\u001b[0;34m\u001b[0m\n\u001b[1;32m      1\u001b[0m \u001b[0msim\u001b[0m\u001b[0;34m.\u001b[0m\u001b[0mmax_cycles\u001b[0m\u001b[0;34m=\u001b[0m\u001b[0;36m50000\u001b[0m\u001b[0;34m\u001b[0m\u001b[0;34m\u001b[0m\u001b[0m\n\u001b[1;32m      2\u001b[0m \u001b[0;34m\u001b[0m\u001b[0m\n\u001b[0;32m----> 3\u001b[0;31m \u001b[0msim\u001b[0m\u001b[0;34m.\u001b[0m\u001b[0mrun\u001b[0m\u001b[0;34m(\u001b[0m\u001b[0;34m)\u001b[0m\u001b[0;34m\u001b[0m\u001b[0;34m\u001b[0m\u001b[0m\n\u001b[0m",
      "\u001b[0;32m~/onesnake/simulation.py\u001b[0m in \u001b[0;36mrun\u001b[0;34m(self)\u001b[0m\n\u001b[1;32m    313\u001b[0m             \u001b[0mlogger\u001b[0m\u001b[0;34m.\u001b[0m\u001b[0minfo\u001b[0m\u001b[0;34m(\u001b[0m\u001b[0;34m\"-\"\u001b[0m \u001b[0;34m*\u001b[0m \u001b[0;36m80\u001b[0m\u001b[0;34m)\u001b[0m\u001b[0;34m\u001b[0m\u001b[0;34m\u001b[0m\u001b[0m\n\u001b[1;32m    314\u001b[0m             \u001b[0;32mif\u001b[0m \u001b[0mnp\u001b[0m\u001b[0;34m.\u001b[0m\u001b[0mrandom\u001b[0m\u001b[0;34m.\u001b[0m\u001b[0mrand\u001b[0m\u001b[0;34m(\u001b[0m\u001b[0;34m)\u001b[0m \u001b[0;34m<\u001b[0m \u001b[0mp_shoot\u001b[0m\u001b[0;34m:\u001b[0m\u001b[0;34m\u001b[0m\u001b[0;34m\u001b[0m\u001b[0m\n\u001b[0;32m--> 315\u001b[0;31m                 \u001b[0mself\u001b[0m\u001b[0;34m.\u001b[0m\u001b[0mdo_shooting_moves\u001b[0m\u001b[0;34m(\u001b[0m\u001b[0;34m)\u001b[0m\u001b[0;34m\u001b[0m\u001b[0;34m\u001b[0m\u001b[0m\n\u001b[0m\u001b[1;32m    316\u001b[0m             \u001b[0;32melse\u001b[0m\u001b[0;34m:\u001b[0m\u001b[0;34m\u001b[0m\u001b[0;34m\u001b[0m\u001b[0m\n\u001b[1;32m    317\u001b[0m                 \u001b[0mself\u001b[0m\u001b[0;34m.\u001b[0m\u001b[0mdo_swap_moves\u001b[0m\u001b[0;34m(\u001b[0m\u001b[0;34m)\u001b[0m\u001b[0;34m\u001b[0m\u001b[0;34m\u001b[0m\u001b[0m\n",
      "\u001b[0;32m~/onesnake/simulation.py\u001b[0m in \u001b[0;36mdo_shooting_moves\u001b[0;34m(self)\u001b[0m\n\u001b[1;32m     93\u001b[0m         \u001b[0mself\u001b[0m\u001b[0;34m.\u001b[0m\u001b[0mcycle\u001b[0m \u001b[0;34m+=\u001b[0m \u001b[0;36m1\u001b[0m\u001b[0;34m\u001b[0m\u001b[0;34m\u001b[0m\u001b[0m\n\u001b[1;32m     94\u001b[0m         \u001b[0;32mfor\u001b[0m \u001b[0mens\u001b[0m \u001b[0;32min\u001b[0m \u001b[0mself\u001b[0m\u001b[0;34m.\u001b[0m\u001b[0mensembles\u001b[0m\u001b[0;34m:\u001b[0m\u001b[0;34m\u001b[0m\u001b[0;34m\u001b[0m\u001b[0m\n\u001b[0;32m---> 95\u001b[0;31m             \u001b[0mstatus\u001b[0m\u001b[0;34m,\u001b[0m \u001b[0mtrial\u001b[0m \u001b[0;34m=\u001b[0m \u001b[0mshooting_move\u001b[0m\u001b[0;34m(\u001b[0m\u001b[0mens\u001b[0m\u001b[0;34m)\u001b[0m\u001b[0;34m\u001b[0m\u001b[0;34m\u001b[0m\u001b[0m\n\u001b[0m\u001b[1;32m     96\u001b[0m             logger.info(\"Shooting move in {} resulted in {}\".format(\n\u001b[1;32m     97\u001b[0m                 ens.name, status))\n",
      "\u001b[0;32m~/onesnake/moves.py\u001b[0m in \u001b[0;36mshooting_move\u001b[0;34m(ens, level)\u001b[0m\n\u001b[1;32m     57\u001b[0m     \u001b[0;31m# restrictive than the forwards part (corresponding to the end condition).\u001b[0m\u001b[0;34m\u001b[0m\u001b[0;34m\u001b[0m\u001b[0;34m\u001b[0m\u001b[0m\n\u001b[1;32m     58\u001b[0m     \u001b[0;31m# propagate backwards. Maxlen = shoot_maxlen-1, because shootpoint is 1\u001b[0m\u001b[0;34m\u001b[0m\u001b[0;34m\u001b[0m\u001b[0;34m\u001b[0m\u001b[0m\n\u001b[0;32m---> 59\u001b[0;31m     \u001b[0mbw_status\u001b[0m\u001b[0;34m,\u001b[0m \u001b[0mbw_tuple\u001b[0m \u001b[0;34m=\u001b[0m \u001b[0mpropagate\u001b[0m\u001b[0;34m(\u001b[0m\u001b[0mens\u001b[0m\u001b[0;34m,\u001b[0m \u001b[0mshootpoint\u001b[0m\u001b[0;34m,\u001b[0m \u001b[0;34m-\u001b[0m\u001b[0;36m1.\u001b[0m\u001b[0;34m,\u001b[0m \u001b[0mshoot_maxlen\u001b[0m\u001b[0;34m-\u001b[0m\u001b[0;36m1\u001b[0m\u001b[0;34m)\u001b[0m\u001b[0;34m\u001b[0m\u001b[0;34m\u001b[0m\u001b[0m\n\u001b[0m\u001b[1;32m     60\u001b[0m     \u001b[0;31m# if unsuccessful, return the status and the partially propagated path\u001b[0m\u001b[0;34m\u001b[0m\u001b[0;34m\u001b[0m\u001b[0;34m\u001b[0m\u001b[0m\n\u001b[1;32m     61\u001b[0m     \u001b[0;32mif\u001b[0m \u001b[0mbw_status\u001b[0m \u001b[0;34m!=\u001b[0m \u001b[0;34m\"ACC\"\u001b[0m\u001b[0;34m:\u001b[0m\u001b[0;34m\u001b[0m\u001b[0;34m\u001b[0m\u001b[0m\n",
      "\u001b[0;32m~/onesnake/moves.py\u001b[0m in \u001b[0;36mpropagate\u001b[0;34m(ens, sh, reverse, maxlen)\u001b[0m\n\u001b[1;32m    513\u001b[0m     \u001b[0;32mwhile\u001b[0m \u001b[0mrun_worthy\u001b[0m\u001b[0;34m:\u001b[0m\u001b[0;34m\u001b[0m\u001b[0;34m\u001b[0m\u001b[0m\n\u001b[1;32m    514\u001b[0m         \u001b[0;31m#logger.debug(\"ph = %s\", ph)\u001b[0m\u001b[0;34m\u001b[0m\u001b[0;34m\u001b[0m\u001b[0;34m\u001b[0m\u001b[0m\n\u001b[0;32m--> 515\u001b[0;31m         \u001b[0mph\u001b[0m \u001b[0;34m=\u001b[0m \u001b[0mens\u001b[0m\u001b[0;34m.\u001b[0m\u001b[0mengine\u001b[0m\u001b[0;34m.\u001b[0m\u001b[0mstep\u001b[0m\u001b[0;34m(\u001b[0m\u001b[0mph\u001b[0m\u001b[0;34m)\u001b[0m\u001b[0;34m\u001b[0m\u001b[0;34m\u001b[0m\u001b[0m\n\u001b[0m\u001b[1;32m    516\u001b[0m         \u001b[0mop\u001b[0m \u001b[0;34m=\u001b[0m \u001b[0mens\u001b[0m\u001b[0;34m.\u001b[0m\u001b[0morderparameter\u001b[0m\u001b[0;34m.\u001b[0m\u001b[0mcalculate\u001b[0m\u001b[0;34m(\u001b[0m\u001b[0mph\u001b[0m\u001b[0;34m)\u001b[0m\u001b[0;34m\u001b[0m\u001b[0;34m\u001b[0m\u001b[0m\n\u001b[1;32m    517\u001b[0m         \u001b[0mphs\u001b[0m\u001b[0;34m.\u001b[0m\u001b[0mappend\u001b[0m\u001b[0;34m(\u001b[0m\u001b[0;34m(\u001b[0m\u001b[0mph\u001b[0m\u001b[0;34m[\u001b[0m\u001b[0;36m0\u001b[0m\u001b[0;34m]\u001b[0m\u001b[0;34m,\u001b[0m \u001b[0mreverse\u001b[0m\u001b[0;34m*\u001b[0m\u001b[0mph\u001b[0m\u001b[0;34m[\u001b[0m\u001b[0;36m1\u001b[0m\u001b[0;34m]\u001b[0m\u001b[0;34m)\u001b[0m\u001b[0;34m)\u001b[0m\u001b[0;34m\u001b[0m\u001b[0;34m\u001b[0m\u001b[0m\n",
      "\u001b[0;32m~/onesnake/engine.py\u001b[0m in \u001b[0;36mstep\u001b[0;34m(self, ph)\u001b[0m\n\u001b[1;32m    137\u001b[0m \u001b[0;34m\u001b[0m\u001b[0m\n\u001b[1;32m    138\u001b[0m        \u001b[0;31m# calculate the stochastic force\u001b[0m\u001b[0;34m\u001b[0m\u001b[0;34m\u001b[0m\u001b[0;34m\u001b[0m\u001b[0m\n\u001b[0;32m--> 139\u001b[0;31m         \u001b[0mxi\u001b[0m \u001b[0;34m=\u001b[0m \u001b[0mnp\u001b[0m\u001b[0;34m.\u001b[0m\u001b[0mrandom\u001b[0m\u001b[0;34m.\u001b[0m\u001b[0mnormal\u001b[0m\u001b[0;34m(\u001b[0m\u001b[0;36m0\u001b[0m\u001b[0;34m,\u001b[0m \u001b[0;36m1\u001b[0m\u001b[0;34m,\u001b[0m \u001b[0mself\u001b[0m\u001b[0;34m.\u001b[0m\u001b[0mdim\u001b[0m\u001b[0;34m)\u001b[0m\u001b[0;34m\u001b[0m\u001b[0;34m\u001b[0m\u001b[0m\n\u001b[0m\u001b[1;32m    140\u001b[0m \u001b[0;34m\u001b[0m\u001b[0m\n\u001b[1;32m    141\u001b[0m         \u001b[0;31m# update the velocity and position using the Langevin equation\u001b[0m\u001b[0;34m\u001b[0m\u001b[0;34m\u001b[0m\u001b[0;34m\u001b[0m\u001b[0m\n",
      "\u001b[0;31mKeyboardInterrupt\u001b[0m: "
     ]
    }
   ],
   "source": [
    "sim.max_cycles=50000\n",
    "\n",
    "sim.run()"
   ]
  },
  {
   "cell_type": "code",
   "execution_count": 4,
   "metadata": {},
   "outputs": [],
   "source": [
    "sim.max_cycles = 140000"
   ]
  },
  {
   "cell_type": "code",
   "execution_count": 8,
   "metadata": {},
   "outputs": [
    {
     "data": {
      "text/plain": [
       "200000"
      ]
     },
     "execution_count": 8,
     "metadata": {},
     "output_type": "execute_result"
    }
   ],
   "source": [
    "sim.cycle"
   ]
  },
  {
   "cell_type": "code",
   "execution_count": 5,
   "metadata": {},
   "outputs": [
    {
     "ename": "FileNotFoundError",
     "evalue": "[Errno 2] No such file or directory: './shuffleboard_reppextis3/sim.pkl'",
     "output_type": "error",
     "traceback": [
      "\u001b[0;31m---------------------------------------------------------------------------\u001b[0m",
      "\u001b[0;31mFileNotFoundError\u001b[0m                         Traceback (most recent call last)",
      "\u001b[0;32m/tmp/ipykernel_69667/1202401115.py\u001b[0m in \u001b[0;36m<module>\u001b[0;34m\u001b[0m\n\u001b[1;32m      1\u001b[0m \u001b[0;32mimport\u001b[0m \u001b[0mpickle\u001b[0m \u001b[0;32mas\u001b[0m \u001b[0mpkl\u001b[0m\u001b[0;34m\u001b[0m\u001b[0;34m\u001b[0m\u001b[0m\n\u001b[1;32m      2\u001b[0m \u001b[0;32mimport\u001b[0m \u001b[0mos\u001b[0m\u001b[0;34m\u001b[0m\u001b[0;34m\u001b[0m\u001b[0m\n\u001b[0;32m----> 3\u001b[0;31m \u001b[0;32mwith\u001b[0m \u001b[0mopen\u001b[0m\u001b[0;34m(\u001b[0m\u001b[0;34m'./shuffleboard_reppextis3/sim.pkl'\u001b[0m\u001b[0;34m,\u001b[0m \u001b[0;34m'rb'\u001b[0m\u001b[0;34m)\u001b[0m \u001b[0;32mas\u001b[0m \u001b[0mf\u001b[0m\u001b[0;34m:\u001b[0m\u001b[0;34m\u001b[0m\u001b[0;34m\u001b[0m\u001b[0m\n\u001b[0m\u001b[1;32m      4\u001b[0m     \u001b[0msim\u001b[0m \u001b[0;34m=\u001b[0m \u001b[0mpkl\u001b[0m\u001b[0;34m.\u001b[0m\u001b[0mload\u001b[0m\u001b[0;34m(\u001b[0m\u001b[0mf\u001b[0m\u001b[0;34m)\u001b[0m\u001b[0;34m\u001b[0m\u001b[0;34m\u001b[0m\u001b[0m\n",
      "\u001b[0;31mFileNotFoundError\u001b[0m: [Errno 2] No such file or directory: './shuffleboard_reppextis3/sim.pkl'"
     ]
    }
   ],
   "source": [
    "import pickle as pkl\n",
    "import os\n",
    "with open('./shuffleboard_reppextis3/sim.pkl', 'rb') as f:\n",
    "    sim = pkl.load(f)"
   ]
  },
  {
   "cell_type": "code",
   "execution_count": 6,
   "metadata": {},
   "outputs": [
    {
     "name": "stdout",
     "output_type": "stream",
     "text": [
      "haha\n"
     ]
    }
   ],
   "source": [
    "print(\"haha\")"
   ]
  },
  {
   "cell_type": "code",
   "execution_count": 4,
   "metadata": {},
   "outputs": [
    {
     "data": {
      "text/plain": [
       "'/home/wouter/onesnake'"
      ]
     },
     "execution_count": 4,
     "metadata": {},
     "output_type": "execute_result"
    }
   ],
   "source": [
    "fig, ax = plt.subplots()\n",
    "l, e = 0, 3\n",
    "for intf in sim.intfs:\n",
    "    ax.axhline(intf, c=\"black\", linestyle=\"--\")\n",
    "plot_paths([connec[1] for connec in sim.ensembles[l][e].last_path.connections], ax = ax, start_ids=\"staggered\")\n",
    "plot_paths([sim.ensembles[l][e].last_path], ax = ax, c=\"purple\")"
   ]
  },
  {
   "cell_type": "code",
   "execution_count": null,
   "metadata": {},
   "outputs": [],
   "source": []
  }
 ],
 "metadata": {
  "kernelspec": {
   "display_name": "pptis_wv",
   "language": "python",
   "name": "python3"
  },
  "language_info": {
   "codemirror_mode": {
    "name": "ipython",
    "version": 3
   },
   "file_extension": ".py",
   "mimetype": "text/x-python",
   "name": "python",
   "nbconvert_exporter": "python",
   "pygments_lexer": "ipython3",
   "version": "3.7.16"
  },
  "orig_nbformat": 4,
  "vscode": {
   "interpreter": {
    "hash": "e2814c5dbc854e5b4bd413f99a7ac175dc73a39295abc619f6a15c457a02aa7d"
   }
  }
 },
 "nbformat": 4,
 "nbformat_minor": 2
}
